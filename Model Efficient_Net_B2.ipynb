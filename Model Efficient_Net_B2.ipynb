{
 "cells": [
  {
   "cell_type": "markdown",
   "id": "dc577821",
   "metadata": {},
   "source": [
    "# Data Pre Processing\n"
   ]
  },
  {
   "cell_type": "code",
   "execution_count": 1,
   "id": "e210dee9",
   "metadata": {},
   "outputs": [
    {
     "name": "stdout",
     "output_type": "stream",
     "text": [
      "['Donuts', 'Fried_rice', 'Pizza']\n",
      "Types of classes labels found:  3\n"
     ]
    }
   ],
   "source": [
    "import numpy as np\n",
    "import tensorflow as tf\n",
    "\n",
    "import numpy as np \n",
    "import pandas as pd \n",
    "import matplotlib.pyplot as plt\n",
    "import os\n",
    "\n",
    "dataset_path = os.listdir('dataset')\n",
    "\n",
    "print (dataset_path)  #what kinds of classes are in this dataset\n",
    "\n",
    "print(\"Types of classes labels found: \", len(dataset_path))"
   ]
  },
  {
   "cell_type": "code",
   "execution_count": 2,
   "id": "831fc876",
   "metadata": {},
   "outputs": [],
   "source": [
    "class_labels = []\n",
    "\n",
    "for item in dataset_path:\n",
    " # Get all the file names\n",
    " all_classes = os.listdir('dataset' + '/' +item)\n",
    "\n",
    " # Add them to the list\n",
    " for room in all_classes:\n",
    "    class_labels.append((item, str('dataset_path' + '/' +item) + '/' + room))"
   ]
  },
  {
   "cell_type": "code",
   "execution_count": 3,
   "id": "5084b104",
   "metadata": {},
   "outputs": [
    {
     "name": "stdout",
     "output_type": "stream",
     "text": [
      "   Labels                                 image\n",
      "0  Donuts  dataset_path/Donuts/00FAM7JH1SMS.jpg\n",
      "1  Donuts  dataset_path/Donuts/058EB4MR27V3.jpg\n",
      "2  Donuts  dataset_path/Donuts/05R77196O1EI.jpg\n",
      "3  Donuts  dataset_path/Donuts/05UMHXBXD57X.jpg\n",
      "4  Donuts  dataset_path/Donuts/071B44KIEMZY.jpg\n",
      "     Labels                                image\n",
      "1495  Pizza  dataset_path/Pizza/8F7S081L4I8U.jpg\n",
      "1496  Pizza  dataset_path/Pizza/8FFS9B1MNBM1.jpg\n",
      "1497  Pizza  dataset_path/Pizza/8FIMCWVEPGDJ.jpg\n",
      "1498  Pizza  dataset_path/Pizza/8FM9XBJN9EEB.jpg\n",
      "1499  Pizza  dataset_path/Pizza/8G2AJFO8DVQP.jpg\n"
     ]
    }
   ],
   "source": [
    "# Build a dataframe        \n",
    "df = pd.DataFrame(data=class_labels, columns=['Labels', 'image'])\n",
    "print(df.head())\n",
    "print(df.tail())"
   ]
  },
  {
   "cell_type": "code",
   "execution_count": 4,
   "id": "308e957c",
   "metadata": {},
   "outputs": [
    {
     "name": "stdout",
     "output_type": "stream",
     "text": [
      "Total number of images in the dataset:  1500\n",
      "Donuts        500\n",
      "Fried_rice    500\n",
      "Pizza         500\n",
      "Name: Labels, dtype: int64\n"
     ]
    }
   ],
   "source": [
    "# Let's check how many samples for each category are present\n",
    "print(\"Total number of images in the dataset: \", len(df))\n",
    "\n",
    "label_count = df['Labels'].value_counts()\n",
    "print(label_count)"
   ]
  },
  {
   "cell_type": "code",
   "execution_count": 5,
   "id": "262a903a",
   "metadata": {},
   "outputs": [],
   "source": [
    "import cv2\n",
    "path = 'dataset/'\n",
    "dataset_path = os.listdir('dataset')\n",
    "\n",
    "im_size = 260\n",
    "\n",
    "images = []\n",
    "labels = []\n",
    "\n",
    "for i in dataset_path:\n",
    "    data_path = path + str(i)  \n",
    "    filenames = [i for i in os.listdir(data_path) ]\n",
    "   \n",
    "    for f in filenames:\n",
    "        img = cv2.imread(data_path + '/' + f)\n",
    "        img = cv2.resize(img, (im_size, im_size))\n",
    "        images.append(img)\n",
    "        labels.append(i)"
   ]
  },
  {
   "cell_type": "code",
   "execution_count": 6,
   "id": "ae7e24ee",
   "metadata": {},
   "outputs": [
    {
     "data": {
      "text/plain": [
       "(1500, 260, 260, 3)"
      ]
     },
     "execution_count": 6,
     "metadata": {},
     "output_type": "execute_result"
    }
   ],
   "source": [
    "#This model takes input images of shape (260, 260, 3), and the input data should range [0, 255]. \n",
    "\n",
    "images = np.array(images)\n",
    "\n",
    "images = images.astype('float32') / 255.0\n",
    "images.shape"
   ]
  },
  {
   "cell_type": "code",
   "execution_count": 7,
   "id": "13aebc28",
   "metadata": {},
   "outputs": [
    {
     "name": "stdout",
     "output_type": "stream",
     "text": [
      "['Donuts' 'Donuts' 'Donuts' ... 'Pizza' 'Pizza' 'Pizza']\n"
     ]
    }
   ],
   "source": [
    "y=df['Labels'].values\n",
    "print(y)"
   ]
  },
  {
   "cell_type": "code",
   "execution_count": 8,
   "id": "ffbdbded",
   "metadata": {},
   "outputs": [
    {
     "name": "stdout",
     "output_type": "stream",
     "text": [
      "[['Donuts']\n",
      " ['Donuts']\n",
      " ['Donuts']\n",
      " ...\n",
      " ['Pizza']\n",
      " ['Pizza']\n",
      " ['Pizza']]\n"
     ]
    }
   ],
   "source": [
    "y=y.reshape(-1,1)\n",
    "print(y)"
   ]
  },
  {
   "cell_type": "code",
   "execution_count": 9,
   "id": "34906cb3",
   "metadata": {},
   "outputs": [
    {
     "name": "stdout",
     "output_type": "stream",
     "text": [
      "[[1. 0. 0.]\n",
      " [1. 0. 0.]\n",
      " [1. 0. 0.]\n",
      " ...\n",
      " [0. 0. 1.]\n",
      " [0. 0. 1.]\n",
      " [0. 0. 1.]]\n"
     ]
    }
   ],
   "source": [
    "from sklearn.preprocessing import OneHotEncoder\n",
    "from sklearn.compose import ColumnTransformer\n",
    "\n",
    "ct = ColumnTransformer([('my_ohe', OneHotEncoder(), [0])], remainder='passthrough')\n",
    "Y = ct.fit_transform(y) \n",
    "print(Y)"
   ]
  },
  {
   "cell_type": "code",
   "execution_count": 10,
   "id": "76a865b3",
   "metadata": {},
   "outputs": [
    {
     "name": "stdout",
     "output_type": "stream",
     "text": [
      "(1125, 260, 260, 3)\n",
      "(1125, 3)\n",
      "(375, 260, 260, 3)\n",
      "(375, 3)\n"
     ]
    }
   ],
   "source": [
    "from sklearn.utils import shuffle\n",
    "from sklearn.model_selection import train_test_split\n",
    "\n",
    "\n",
    "images, Y = shuffle(images, Y, random_state=1)\n",
    "\n",
    "\n",
    "train_x, test_x, train_y, test_y = train_test_split(images, Y, test_size=0.25, random_state=415)\n",
    "\n",
    "#inspect the shape of the training and testing.\n",
    "print(train_x.shape)\n",
    "print(train_y.shape)\n",
    "print(test_x.shape)\n",
    "print(test_y.shape)"
   ]
  },
  {
   "cell_type": "markdown",
   "id": "7b13bcd2",
   "metadata": {},
   "source": [
    "# EfficientNetB2 Implementation :"
   ]
  },
  {
   "cell_type": "code",
   "execution_count": 11,
   "id": "90c6b84e",
   "metadata": {},
   "outputs": [],
   "source": [
    "from tensorflow.keras import layers\n",
    "from tensorflow.keras.applications import EfficientNetB2\n",
    "\n",
    "NUM_CLASSES = 3\n",
    "IMG_SIZE = 260\n",
    "\n",
    "inputs = layers.Input(shape=(IMG_SIZE, IMG_SIZE, 3))\n",
    "\n",
    "\n",
    "# Using model without transfer learning\n",
    "\n",
    "outputs = EfficientNetB2(include_top=True, weights=None, classes=NUM_CLASSES)(inputs)"
   ]
  },
  {
   "cell_type": "code",
   "execution_count": null,
   "id": "6694191a",
   "metadata": {},
   "outputs": [
    {
     "name": "stdout",
     "output_type": "stream",
     "text": [
      "Model: \"model\"\n",
      "_________________________________________________________________\n",
      " Layer (type)                Output Shape              Param #   \n",
      "=================================================================\n",
      " input_1 (InputLayer)        [(None, 260, 260, 3)]     0         \n",
      "                                                                 \n",
      " efficientnetb2 (Functional)  (None, 3)                7772796   \n",
      "                                                                 \n",
      "=================================================================\n",
      "Total params: 7,772,796\n",
      "Trainable params: 7,705,221\n",
      "Non-trainable params: 67,575\n",
      "_________________________________________________________________\n",
      "Epoch 1/30\n",
      "36/36 - 822s - loss: 3.3421 - accuracy: 0.3538 - 822s/epoch - 23s/step\n",
      "Epoch 2/30\n",
      "36/36 - 570s - loss: 2.5428 - accuracy: 0.3396 - 570s/epoch - 16s/step\n",
      "Epoch 3/30\n",
      "36/36 - 666s - loss: 2.0459 - accuracy: 0.3582 - 666s/epoch - 18s/step\n",
      "Epoch 4/30\n",
      "36/36 - 602s - loss: 2.1764 - accuracy: 0.3449 - 602s/epoch - 17s/step\n",
      "Epoch 5/30\n"
     ]
    }
   ],
   "source": [
    "model = tf.keras.Model(inputs, outputs)\n",
    "\n",
    "model.compile(optimizer=\"adam\", loss=\"categorical_crossentropy\", metrics=[\"accuracy\"] )\n",
    "\n",
    "model.summary()\n",
    "\n",
    "hist = model.fit(train_x, train_y, epochs=30, verbose=2)"
   ]
  },
  {
   "cell_type": "code",
   "execution_count": null,
   "id": "1afa48fb",
   "metadata": {},
   "outputs": [],
   "source": []
  }
 ],
 "metadata": {
  "kernelspec": {
   "display_name": "Python 3 (ipykernel)",
   "language": "python",
   "name": "python3"
  },
  "language_info": {
   "codemirror_mode": {
    "name": "ipython",
    "version": 3
   },
   "file_extension": ".py",
   "mimetype": "text/x-python",
   "name": "python",
   "nbconvert_exporter": "python",
   "pygments_lexer": "ipython3",
   "version": "3.10.5"
  }
 },
 "nbformat": 4,
 "nbformat_minor": 5
}
